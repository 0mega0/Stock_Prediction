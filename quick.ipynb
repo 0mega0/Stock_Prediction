{
 "cells": [
  {
   "cell_type": "code",
   "execution_count": 4,
   "metadata": {},
   "outputs": [
    {
     "data": {
      "image/png": "[encoded data removed]",
      "text/plain": [
       "<Figure size 432x288 with 1 Axes>"
      ]
     },
     "metadata": {
      "needs_background": "light"
     },
     "output_type": "display_data"
    }
   ],
   "source": [
    "import pandas as pd\n",
    "import numpy as np\n",
    "import matplotlib.pyplot as plt\n",
    "origin_dataset_test = pd.read_csv('dataset_Original/JD.csv')\n",
    "real_stock_price = origin_dataset_test['Open'].values\n",
    "real_stock_price_part = real_stock_price[len(real_stock_price)-200:len(real_stock_price)]\n",
    "plt.plot(real_stock_price)\n",
    "plt.show()"
   ]
  },
  {
   "cell_type": "markdown",
   "metadata": {},
   "source": [
    "获取某路径内所有CSV格式文件的数据量  \n",
    "  做毕设的时候用来统计数据量"
   ]
  },
  {
   "cell_type": "code",
   "execution_count": 10,
   "metadata": {},
   "outputs": [
    {
     "name": "stdout",
     "output_type": "stream",
     "text": [
      "USFR.csv 2061\n"
     ]
    }
   ],
   "source": [
    "import os\n",
    "import pandas as pd\n",
    "FILEPATH = 'dataset_origin/NYSE/'\n",
    "\n",
    "\n",
    "def get_line_num(file_name):\n",
    "    with open(FILEPATH+file_name, 'r') as f:\n",
    "        line_num = len(f.readlines())-1\n",
    "    print(file_name + ' ' + str(line_num))\n",
    "\n",
    "\n",
    "for name in os.listdir(FILEPATH):\n",
    "    get_line_num(name)\n"
   ]
  },
  {
   "cell_type": "markdown",
   "metadata": {},
   "source": [
    "将某路径内的文件全部打包为.zip"
   ]
  },
  {
   "cell_type": "code",
   "execution_count": 2,
   "metadata": {},
   "outputs": [],
   "source": [
    "import os\n",
    "import zipfile\n",
    "\n",
    "\n",
    "def zip_path(path):\n",
    "    zip_file = zipfile.ZipFile(path + '.zip', 'w', zipfile.ZIP_DEFLATED)\n",
    "    for root, dirs, files in os.walk(path):\n",
    "        for file in files:\n",
    "            zip_file.write(os.path.join(root, file))\n",
    "    zip_file.close()\n",
    "\n",
    "\n",
    "zip_path('small')\n",
    "\n"
   ]
  },
  {
   "cell_type": "code",
   "execution_count": 2,
   "metadata": {},
   "outputs": [
    {
     "name": "stdout",
     "output_type": "stream",
     "text": [
      "WARNING:tensorflow:5 out of the last 9 calls to <function Model.make_predict_function.<locals>.predict_function at 0x0000022389751280> triggered tf.function retracing. Tracing is expensive and the excessive number of tracings could be due to (1) creating @tf.function repeatedly in a loop, (2) passing tensors with different shapes, (3) passing Python objects instead of tensors. For (1), please define your @tf.function outside of the loop. For (2), @tf.function has experimental_relax_shapes=True option that relaxes argument shapes that can avoid unnecessary retracing. For (3), please refer to https://www.tensorflow.org/guide/function#controlling_retracing and https://www.tensorflow.org/api_docs/python/tf/function for  more details.\n",
      "WARNING:tensorflow:6 out of the last 11 calls to <function Model.make_predict_function.<locals>.predict_function at 0x0000022390A934C0> triggered tf.function retracing. Tracing is expensive and the excessive number of tracings could be due to (1) creating @tf.function repeatedly in a loop, (2) passing tensors with different shapes, (3) passing Python objects instead of tensors. For (1), please define your @tf.function outside of the loop. For (2), @tf.function has experimental_relax_shapes=True option that relaxes argument shapes that can avoid unnecessary retracing. For (3), please refer to https://www.tensorflow.org/guide/function#controlling_retracing and https://www.tensorflow.org/api_docs/python/tf/function for  more details.\n"
     ]
    },
    {
     "data": {
      "text/plain": [
       "<Figure size 576x432 with 0 Axes>"
      ]
     },
     "metadata": {},
     "output_type": "display_data"
    }
   ],
   "source": [
    "# 图片化\n",
    "from My_LSTM_Training import My_LSTM_Training\n",
    "import os\n",
    "def predict_multi(file):\n",
    "    real_stock_price, predicted_stock_price = myModel.model_predict(model_name='train_set_test.h5', data_predict=file, timestep=64, predict_days=50)\n",
    "    myModel.visualising(real_stock_price, predicted_stock_price, True)\n",
    "\n",
    "\n",
    "Timestep = 64\n",
    "DATA_PATH = 'dataset_origin/CN/'\n",
    "MODEL_PATH = 'trained_models/'\n",
    "PIC_PATH = 'predict_pic/CN/'\n",
    "myModel = My_LSTM_Training(Timestep, DATA_PATH, MODEL_PATH, PIC_PATH)\n",
    "for name in os.listdir(DATA_PATH):\n",
    "    predict_multi(name)"
   ]
  },
  {
   "cell_type": "code",
   "execution_count": 7,
   "metadata": {},
   "outputs": [
    {
     "name": "stdout",
     "output_type": "stream",
     "text": [
      "WARNING:tensorflow:Layer lstm_51 will not use cuDNN kernels since it doesn't meet the criteria. It will use a generic GPU kernel as fallback when running on GPU.\n",
      "WARNING:tensorflow:Layer lstm_52 will not use cuDNN kernels since it doesn't meet the criteria. It will use a generic GPU kernel as fallback when running on GPU.\n",
      "WARNING:tensorflow:Layer lstm_53 will not use cuDNN kernels since it doesn't meet the criteria. It will use a generic GPU kernel as fallback when running on GPU.\n"
     ]
    },
    {
     "ename": "NotFittedError",
     "evalue": "This MinMaxScaler instance is not fitted yet. Call 'fit' with appropriate arguments before using this estimator.",
     "output_type": "error",
     "traceback": [
      "\u001b[1;31m---------------------------------------------------------------------------\u001b[0m",
      "\u001b[1;31mNotFittedError\u001b[0m                            Traceback (most recent call last)",
      "\u001b[1;32md:\\github\\Stock_Prediction\\quick.ipynb Cell 7'\u001b[0m in \u001b[0;36m<module>\u001b[1;34m\u001b[0m\n\u001b[0;32m     <a href='vscode-notebook-cell:/d%3A/github/Stock_Prediction/quick.ipynb#ch0000006?line=21'>22</a>\u001b[0m     real_stock_price \u001b[39m=\u001b[39m scaler\u001b[39m.\u001b[39minverse_transform(y_test)\n\u001b[0;32m     <a href='vscode-notebook-cell:/d%3A/github/Stock_Prediction/quick.ipynb#ch0000006?line=24'>25</a>\u001b[0m \u001b[39m# for name in os.listdir(DATA_PATH):\u001b[39;00m\n\u001b[0;32m     <a href='vscode-notebook-cell:/d%3A/github/Stock_Prediction/quick.ipynb#ch0000006?line=25'>26</a>\u001b[0m \u001b[39m#     train(name)\u001b[39;00m\n\u001b[0;32m     <a href='vscode-notebook-cell:/d%3A/github/Stock_Prediction/quick.ipynb#ch0000006?line=26'>27</a>\u001b[0m \u001b[39m#     bucket.put_object_from_file(MODEL_PATH + name[:-4] + '.h5', MODEL_PATH + name[:-4] + '.h5')\u001b[39;00m\n\u001b[1;32m---> <a href='vscode-notebook-cell:/d%3A/github/Stock_Prediction/quick.ipynb#ch0000006?line=27'>28</a>\u001b[0m train(\u001b[39m'\u001b[39;49m\u001b[39mPYPL.csv\u001b[39;49m\u001b[39m'\u001b[39;49m)\n",
      "\u001b[1;32md:\\github\\Stock_Prediction\\quick.ipynb Cell 7'\u001b[0m in \u001b[0;36mtrain\u001b[1;34m(data_file)\u001b[0m\n\u001b[0;32m     <a href='vscode-notebook-cell:/d%3A/github/Stock_Prediction/quick.ipynb#ch0000006?line=18'>19</a>\u001b[0m predictions \u001b[39m=\u001b[39m model\u001b[39m.\u001b[39mpredict(x_test)\n\u001b[0;32m     <a href='vscode-notebook-cell:/d%3A/github/Stock_Prediction/quick.ipynb#ch0000006?line=19'>20</a>\u001b[0m scaler \u001b[39m=\u001b[39m MinMaxScaler(feature_range\u001b[39m=\u001b[39m(\u001b[39m0\u001b[39m, \u001b[39m1\u001b[39m))\n\u001b[1;32m---> <a href='vscode-notebook-cell:/d%3A/github/Stock_Prediction/quick.ipynb#ch0000006?line=20'>21</a>\u001b[0m predictions \u001b[39m=\u001b[39m scaler\u001b[39m.\u001b[39;49minverse_transform(predictions)\n\u001b[0;32m     <a href='vscode-notebook-cell:/d%3A/github/Stock_Prediction/quick.ipynb#ch0000006?line=21'>22</a>\u001b[0m real_stock_price \u001b[39m=\u001b[39m scaler\u001b[39m.\u001b[39minverse_transform(y_test)\n",
      "File \u001b[1;32mC:\\Program Files\\Python38\\lib\\site-packages\\sklearn\\preprocessing\\_data.py:523\u001b[0m, in \u001b[0;36mMinMaxScaler.inverse_transform\u001b[1;34m(self, X)\u001b[0m\n\u001b[0;32m    <a href='file:///c%3A/Program%20Files/Python38/lib/site-packages/sklearn/preprocessing/_data.py?line=509'>510</a>\u001b[0m \u001b[39mdef\u001b[39;00m \u001b[39minverse_transform\u001b[39m(\u001b[39mself\u001b[39m, X):\n\u001b[0;32m    <a href='file:///c%3A/Program%20Files/Python38/lib/site-packages/sklearn/preprocessing/_data.py?line=510'>511</a>\u001b[0m     \u001b[39m\"\"\"Undo the scaling of X according to feature_range.\u001b[39;00m\n\u001b[0;32m    <a href='file:///c%3A/Program%20Files/Python38/lib/site-packages/sklearn/preprocessing/_data.py?line=511'>512</a>\u001b[0m \n\u001b[0;32m    <a href='file:///c%3A/Program%20Files/Python38/lib/site-packages/sklearn/preprocessing/_data.py?line=512'>513</a>\u001b[0m \u001b[39m    Parameters\u001b[39;00m\n\u001b[1;32m   (...)\u001b[0m\n\u001b[0;32m    <a href='file:///c%3A/Program%20Files/Python38/lib/site-packages/sklearn/preprocessing/_data.py?line=520'>521</a>\u001b[0m \u001b[39m        Transformed data.\u001b[39;00m\n\u001b[0;32m    <a href='file:///c%3A/Program%20Files/Python38/lib/site-packages/sklearn/preprocessing/_data.py?line=521'>522</a>\u001b[0m \u001b[39m    \"\"\"\u001b[39;00m\n\u001b[1;32m--> <a href='file:///c%3A/Program%20Files/Python38/lib/site-packages/sklearn/preprocessing/_data.py?line=522'>523</a>\u001b[0m     check_is_fitted(\u001b[39mself\u001b[39;49m)\n\u001b[0;32m    <a href='file:///c%3A/Program%20Files/Python38/lib/site-packages/sklearn/preprocessing/_data.py?line=524'>525</a>\u001b[0m     X \u001b[39m=\u001b[39m check_array(\n\u001b[0;32m    <a href='file:///c%3A/Program%20Files/Python38/lib/site-packages/sklearn/preprocessing/_data.py?line=525'>526</a>\u001b[0m         X, copy\u001b[39m=\u001b[39m\u001b[39mself\u001b[39m\u001b[39m.\u001b[39mcopy, dtype\u001b[39m=\u001b[39mFLOAT_DTYPES, force_all_finite\u001b[39m=\u001b[39m\u001b[39m\"\u001b[39m\u001b[39mallow-nan\u001b[39m\u001b[39m\"\u001b[39m\n\u001b[0;32m    <a href='file:///c%3A/Program%20Files/Python38/lib/site-packages/sklearn/preprocessing/_data.py?line=526'>527</a>\u001b[0m     )\n\u001b[0;32m    <a href='file:///c%3A/Program%20Files/Python38/lib/site-packages/sklearn/preprocessing/_data.py?line=528'>529</a>\u001b[0m     X \u001b[39m-\u001b[39m\u001b[39m=\u001b[39m \u001b[39mself\u001b[39m\u001b[39m.\u001b[39mmin_\n",
      "File \u001b[1;32mC:\\Program Files\\Python38\\lib\\site-packages\\sklearn\\utils\\validation.py:1222\u001b[0m, in \u001b[0;36mcheck_is_fitted\u001b[1;34m(estimator, attributes, msg, all_or_any)\u001b[0m\n\u001b[0;32m   <a href='file:///c%3A/Program%20Files/Python38/lib/site-packages/sklearn/utils/validation.py?line=1216'>1217</a>\u001b[0m     fitted \u001b[39m=\u001b[39m [\n\u001b[0;32m   <a href='file:///c%3A/Program%20Files/Python38/lib/site-packages/sklearn/utils/validation.py?line=1217'>1218</a>\u001b[0m         v \u001b[39mfor\u001b[39;00m v \u001b[39min\u001b[39;00m \u001b[39mvars\u001b[39m(estimator) \u001b[39mif\u001b[39;00m v\u001b[39m.\u001b[39mendswith(\u001b[39m\"\u001b[39m\u001b[39m_\u001b[39m\u001b[39m\"\u001b[39m) \u001b[39mand\u001b[39;00m \u001b[39mnot\u001b[39;00m v\u001b[39m.\u001b[39mstartswith(\u001b[39m\"\u001b[39m\u001b[39m__\u001b[39m\u001b[39m\"\u001b[39m)\n\u001b[0;32m   <a href='file:///c%3A/Program%20Files/Python38/lib/site-packages/sklearn/utils/validation.py?line=1218'>1219</a>\u001b[0m     ]\n\u001b[0;32m   <a href='file:///c%3A/Program%20Files/Python38/lib/site-packages/sklearn/utils/validation.py?line=1220'>1221</a>\u001b[0m \u001b[39mif\u001b[39;00m \u001b[39mnot\u001b[39;00m fitted:\n\u001b[1;32m-> <a href='file:///c%3A/Program%20Files/Python38/lib/site-packages/sklearn/utils/validation.py?line=1221'>1222</a>\u001b[0m     \u001b[39mraise\u001b[39;00m NotFittedError(msg \u001b[39m%\u001b[39m {\u001b[39m\"\u001b[39m\u001b[39mname\u001b[39m\u001b[39m\"\u001b[39m: \u001b[39mtype\u001b[39m(estimator)\u001b[39m.\u001b[39m\u001b[39m__name__\u001b[39m})\n",
      "\u001b[1;31mNotFittedError\u001b[0m: This MinMaxScaler instance is not fitted yet. Call 'fit' with appropriate arguments before using this estimator."
     ]
    }
   ],
   "source": [
    "from My_LSTM_Training import My_LSTM_Training\n",
    "from sklearn.preprocessing import MinMaxScaler\n",
    "import os\n",
    "import oss2\n",
    "auth = oss2.Auth('LTAI5tHB9mSTZC2H5EeFXddF', 'vDcyTNuyYTL6WGdiGYTeJ6H7kADw99')\n",
    "bucket = oss2.Bucket(auth, 'oss-cn-shanghai.aliyuncs.com', 'dataset-yhy')\n",
    "\n",
    "Timestep = 64\n",
    "DATA_PATH = 'dataset_origin/NASDAQ/large/'\n",
    "MODEL_PATH = 'trained_models/NASDAQ/'\n",
    "PIC_PATH = 'predict_pic/self/NASDAQ/'\n",
    "myModel = My_LSTM_Training(Timestep, DATA_PATH, MODEL_PATH, PIC_PATH)\n",
    "\n",
    "def train(data_file):\n",
    "    \n",
    "    x_train, y_train, x_test, y_test = myModel.init_dataset(data_file)\n",
    "    # myModel.modelTrain(x_train, y_train, batch_size=40, name=data_file[:-4]+'.h5')\n",
    "    from keras.models import load_model\n",
    "    model = load_model('trained_models/NASDAQ/large/PYPL.h5')\n",
    "    predictions = model.predict(x_test)\n",
    "    scaler = MinMaxScaler(feature_range=(0, 1))\n",
    "\n",
    "    predictions = scaler.inverse_transform(predictions)\n",
    "    real_stock_price = scaler.inverse_transform(y_test)\n",
    "\n",
    "\n",
    "# for name in os.listdir(DATA_PATH):\n",
    "#     train(name)\n",
    "#     bucket.put_object_from_file(MODEL_PATH + name[:-4] + '.h5', MODEL_PATH + name[:-4] + '.h5')\n",
    "train('PYPL.csv')\n"
   ]
  },
  {
   "cell_type": "code",
   "execution_count": 6,
   "metadata": {},
   "outputs": [
    {
     "data": {
      "text/html": [
       "<div>\n",
       "<style scoped>\n",
       "    .dataframe tbody tr th:only-of-type {\n",
       "        vertical-align: middle;\n",
       "    }\n",
       "\n",
       "    .dataframe tbody tr th {\n",
       "        vertical-align: top;\n",
       "    }\n",
       "\n",
       "    .dataframe thead th {\n",
       "        text-align: right;\n",
       "    }\n",
       "</style>\n",
       "<table border=\"1\" class=\"dataframe\">\n",
       "  <thead>\n",
       "    <tr style=\"text-align: right;\">\n",
       "      <th></th>\n",
       "      <th>ts_code</th>\n",
       "      <th>trade_date</th>\n",
       "      <th>open</th>\n",
       "      <th>high</th>\n",
       "      <th>low</th>\n",
       "      <th>close</th>\n",
       "      <th>pre_close</th>\n",
       "      <th>change</th>\n",
       "      <th>pct_chg</th>\n",
       "      <th>vol</th>\n",
       "      <th>amount</th>\n",
       "    </tr>\n",
       "  </thead>\n",
       "  <tbody>\n",
       "    <tr>\n",
       "      <th>0</th>\n",
       "      <td>000001.SZ</td>\n",
       "      <td>20220418</td>\n",
       "      <td>16.15</td>\n",
       "      <td>16.20</td>\n",
       "      <td>15.81</td>\n",
       "      <td>15.90</td>\n",
       "      <td>16.42</td>\n",
       "      <td>-0.52</td>\n",
       "      <td>-3.1669</td>\n",
       "      <td>1086887.56</td>\n",
       "      <td>1.734237e+06</td>\n",
       "    </tr>\n",
       "    <tr>\n",
       "      <th>1</th>\n",
       "      <td>000001.SZ</td>\n",
       "      <td>20220415</td>\n",
       "      <td>15.90</td>\n",
       "      <td>16.53</td>\n",
       "      <td>15.86</td>\n",
       "      <td>16.42</td>\n",
       "      <td>16.04</td>\n",
       "      <td>0.38</td>\n",
       "      <td>2.3691</td>\n",
       "      <td>1231761.03</td>\n",
       "      <td>2.014010e+06</td>\n",
       "    </tr>\n",
       "    <tr>\n",
       "      <th>2</th>\n",
       "      <td>000001.SZ</td>\n",
       "      <td>20220414</td>\n",
       "      <td>16.00</td>\n",
       "      <td>16.25</td>\n",
       "      <td>15.92</td>\n",
       "      <td>16.04</td>\n",
       "      <td>15.80</td>\n",
       "      <td>0.24</td>\n",
       "      <td>1.5190</td>\n",
       "      <td>929614.94</td>\n",
       "      <td>1.493344e+06</td>\n",
       "    </tr>\n",
       "    <tr>\n",
       "      <th>3</th>\n",
       "      <td>000001.SZ</td>\n",
       "      <td>20220413</td>\n",
       "      <td>15.89</td>\n",
       "      <td>16.08</td>\n",
       "      <td>15.72</td>\n",
       "      <td>15.80</td>\n",
       "      <td>15.92</td>\n",
       "      <td>-0.12</td>\n",
       "      <td>-0.7538</td>\n",
       "      <td>890628.06</td>\n",
       "      <td>1.415496e+06</td>\n",
       "    </tr>\n",
       "    <tr>\n",
       "      <th>4</th>\n",
       "      <td>000001.SZ</td>\n",
       "      <td>20220412</td>\n",
       "      <td>16.05</td>\n",
       "      <td>16.26</td>\n",
       "      <td>15.66</td>\n",
       "      <td>15.92</td>\n",
       "      <td>16.05</td>\n",
       "      <td>-0.13</td>\n",
       "      <td>-0.8100</td>\n",
       "      <td>1039261.42</td>\n",
       "      <td>1.654820e+06</td>\n",
       "    </tr>\n",
       "    <tr>\n",
       "      <th>...</th>\n",
       "      <td>...</td>\n",
       "      <td>...</td>\n",
       "      <td>...</td>\n",
       "      <td>...</td>\n",
       "      <td>...</td>\n",
       "      <td>...</td>\n",
       "      <td>...</td>\n",
       "      <td>...</td>\n",
       "      <td>...</td>\n",
       "      <td>...</td>\n",
       "      <td>...</td>\n",
       "    </tr>\n",
       "    <tr>\n",
       "      <th>4995</th>\n",
       "      <td>000001.SZ</td>\n",
       "      <td>20010109</td>\n",
       "      <td>14.00</td>\n",
       "      <td>14.58</td>\n",
       "      <td>13.85</td>\n",
       "      <td>14.55</td>\n",
       "      <td>14.00</td>\n",
       "      <td>0.55</td>\n",
       "      <td>3.9300</td>\n",
       "      <td>52336.37</td>\n",
       "      <td>7.434435e+04</td>\n",
       "    </tr>\n",
       "    <tr>\n",
       "      <th>4996</th>\n",
       "      <td>000001.SZ</td>\n",
       "      <td>20010108</td>\n",
       "      <td>14.20</td>\n",
       "      <td>14.20</td>\n",
       "      <td>13.98</td>\n",
       "      <td>14.00</td>\n",
       "      <td>14.20</td>\n",
       "      <td>-0.20</td>\n",
       "      <td>-1.4100</td>\n",
       "      <td>69944.94</td>\n",
       "      <td>9.804406e+04</td>\n",
       "    </tr>\n",
       "    <tr>\n",
       "      <th>4997</th>\n",
       "      <td>000001.SZ</td>\n",
       "      <td>20010105</td>\n",
       "      <td>14.33</td>\n",
       "      <td>14.33</td>\n",
       "      <td>14.12</td>\n",
       "      <td>14.20</td>\n",
       "      <td>14.35</td>\n",
       "      <td>-0.15</td>\n",
       "      <td>-1.0500</td>\n",
       "      <td>66419.01</td>\n",
       "      <td>9.415481e+04</td>\n",
       "    </tr>\n",
       "    <tr>\n",
       "      <th>4998</th>\n",
       "      <td>000001.SZ</td>\n",
       "      <td>20010104</td>\n",
       "      <td>14.45</td>\n",
       "      <td>14.50</td>\n",
       "      <td>14.30</td>\n",
       "      <td>14.35</td>\n",
       "      <td>14.44</td>\n",
       "      <td>-0.09</td>\n",
       "      <td>-0.6200</td>\n",
       "      <td>48404.44</td>\n",
       "      <td>6.957336e+04</td>\n",
       "    </tr>\n",
       "    <tr>\n",
       "      <th>4999</th>\n",
       "      <td>000001.SZ</td>\n",
       "      <td>20010103</td>\n",
       "      <td>14.56</td>\n",
       "      <td>14.61</td>\n",
       "      <td>14.37</td>\n",
       "      <td>14.44</td>\n",
       "      <td>14.55</td>\n",
       "      <td>-0.11</td>\n",
       "      <td>-0.7600</td>\n",
       "      <td>54294.20</td>\n",
       "      <td>7.830430e+04</td>\n",
       "    </tr>\n",
       "  </tbody>\n",
       "</table>\n",
       "<p>5000 rows × 11 columns</p>\n",
       "</div>"
      ],
      "text/plain": [
       "        ts_code trade_date   open   high    low  close  pre_close  change  \\\n",
       "0     000001.SZ   20220418  16.15  16.20  15.81  15.90      16.42   -0.52   \n",
       "1     000001.SZ   20220415  15.90  16.53  15.86  16.42      16.04    0.38   \n",
       "2     000001.SZ   20220414  16.00  16.25  15.92  16.04      15.80    0.24   \n",
       "3     000001.SZ   20220413  15.89  16.08  15.72  15.80      15.92   -0.12   \n",
       "4     000001.SZ   20220412  16.05  16.26  15.66  15.92      16.05   -0.13   \n",
       "...         ...        ...    ...    ...    ...    ...        ...     ...   \n",
       "4995  000001.SZ   20010109  14.00  14.58  13.85  14.55      14.00    0.55   \n",
       "4996  000001.SZ   20010108  14.20  14.20  13.98  14.00      14.20   -0.20   \n",
       "4997  000001.SZ   20010105  14.33  14.33  14.12  14.20      14.35   -0.15   \n",
       "4998  000001.SZ   20010104  14.45  14.50  14.30  14.35      14.44   -0.09   \n",
       "4999  000001.SZ   20010103  14.56  14.61  14.37  14.44      14.55   -0.11   \n",
       "\n",
       "      pct_chg         vol        amount  \n",
       "0     -3.1669  1086887.56  1.734237e+06  \n",
       "1      2.3691  1231761.03  2.014010e+06  \n",
       "2      1.5190   929614.94  1.493344e+06  \n",
       "3     -0.7538   890628.06  1.415496e+06  \n",
       "4     -0.8100  1039261.42  1.654820e+06  \n",
       "...       ...         ...           ...  \n",
       "4995   3.9300    52336.37  7.434435e+04  \n",
       "4996  -1.4100    69944.94  9.804406e+04  \n",
       "4997  -1.0500    66419.01  9.415481e+04  \n",
       "4998  -0.6200    48404.44  6.957336e+04  \n",
       "4999  -0.7600    54294.20  7.830430e+04  \n",
       "\n",
       "[5000 rows x 11 columns]"
      ]
     },
     "execution_count": 6,
     "metadata": {},
     "output_type": "execute_result"
    }
   ],
   "source": [
    "import tushare as ts\n",
    "\n",
    "pro = ts.pro_api('711feb83aee69bfac89a056c9d77b9776a61dd306222bddb9b9d09f7')\n",
    "df = pro.daily(ts_code='000001.SZ' ,start_date='19000101', end_date='20221231')\n",
    "df\n"
   ]
  }
 ],
 "metadata": {
  "interpreter": {
   "hash": "1baa965d5efe3ac65b79dfc60c0d706280b1da80fedb7760faf2759126c4f253"
  },
  "kernelspec": {
   "display_name": "Python 3.8.7 64-bit",
   "language": "python",
   "name": "python3"
  },
  "language_info": {
   "codemirror_mode": {
    "name": "ipython",
    "version": 3
   },
   "file_extension": ".py",
   "mimetype": "text/x-python",
   "name": "python",
   "nbconvert_exporter": "python",
   "pygments_lexer": "ipython3",
   "version": "3.8.7"
  },
  "orig_nbformat": 4
 },
 "nbformat": 4,
 "nbformat_minor": 2
}
